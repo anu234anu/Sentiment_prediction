{
 "cells": [
  {
   "cell_type": "markdown",
   "id": "f1b196a0",
   "metadata": {},
   "source": [
    "## Roll no : P23DS019, P23DS021"
   ]
  },
  {
   "cell_type": "code",
   "execution_count": 1,
   "id": "34fb2514",
   "metadata": {
    "_cell_guid": "b1076dfc-b9ad-4769-8c92-a6c4dae69d19",
    "_uuid": "8f2839f25d086af736a60e9eeb907d3b93b6e0e5",
    "execution": {
     "iopub.execute_input": "2021-12-28T11:36:09.387474Z",
     "iopub.status.busy": "2021-12-28T11:36:09.386733Z",
     "iopub.status.idle": "2021-12-28T11:36:10.609758Z",
     "shell.execute_reply": "2021-12-28T11:36:10.609081Z",
     "shell.execute_reply.started": "2021-12-28T11:34:23.001745Z"
    },
    "papermill": {
     "duration": 1.411978,
     "end_time": "2021-12-28T11:36:10.609899",
     "exception": false,
     "start_time": "2021-12-28T11:36:09.197921",
     "status": "completed"
    },
    "tags": []
   },
   "outputs": [],
   "source": [
    "import numpy as np # linear algebra\n",
    "import pandas as pd # data processing, CSV file I/O (e.g. pd.read_csv)\n",
    "import matplotlib.pyplot as plt\n",
    "import seaborn as sns\n",
    "import sklearn\n",
    "import random\n",
    "import os\n",
    "\n",
    "from pyspark.sql import SparkSession \n",
    "from pyspark.ml  import Pipeline     \n",
    "from pyspark.sql import SQLContext  \n",
    "from pyspark.sql.functions import mean,col,split, col, regexp_extract, when, lit\n",
    "from pyspark.sql.types import StructType, StructField, IntegerType, StringType\n",
    "from pyspark.ml.feature import StringIndexer, VectorAssembler\n",
    "from pyspark.ml.evaluation import MulticlassClassificationEvaluator\n",
    "from pyspark.ml.feature import QuantileDiscretizer\n",
    "from pyspark.sql import functions as F"
   ]
  },
  {
   "cell_type": "code",
   "execution_count": 2,
   "id": "8fbda27f",
   "metadata": {
    "execution": {
     "iopub.execute_input": "2021-12-28T11:36:10.972307Z",
     "iopub.status.busy": "2021-12-28T11:36:10.971566Z",
     "iopub.status.idle": "2021-12-28T11:36:10.974385Z",
     "shell.execute_reply": "2021-12-28T11:36:10.975476Z",
     "shell.execute_reply.started": "2021-12-28T11:34:23.032713Z"
    },
    "papermill": {
     "duration": 0.191466,
     "end_time": "2021-12-28T11:36:10.975780",
     "exception": false,
     "start_time": "2021-12-28T11:36:10.784314",
     "status": "completed"
    },
    "tags": []
   },
   "outputs": [],
   "source": [
    "DATASET_COLUMNS = StructType([\n",
    "    StructField(\"target\", StringType(), True),\n",
    "    StructField(\"ids\", StringType(), True),\n",
    "    StructField(\"date\", StringType(), True),\n",
    "    StructField(\"flag\", StringType(), True),\n",
    "    StructField(\"user\", StringType(), True),\n",
    "    StructField(\"text\", StringType(), True)])\n",
    "\n",
    "DATASET_ENCODING = \"ISO-8859-1\""
   ]
  },
  {
   "cell_type": "code",
   "execution_count": 3,
   "id": "8777abf4",
   "metadata": {
    "execution": {
     "iopub.execute_input": "2021-12-28T11:36:11.361017Z",
     "iopub.status.busy": "2021-12-28T11:36:11.360303Z",
     "iopub.status.idle": "2021-12-28T11:36:19.910248Z",
     "shell.execute_reply": "2021-12-28T11:36:19.908857Z"
    },
    "papermill": {
     "duration": 8.731881,
     "end_time": "2021-12-28T11:36:19.910481",
     "exception": false,
     "start_time": "2021-12-28T11:36:11.178600",
     "status": "completed"
    },
    "tags": []
   },
   "outputs": [],
   "source": [
    "spark = SparkSession.builder.appName('Tweets Sentiment1').getOrCreate()\n",
    "df = spark.read.csv('train_test.csv',header = 'False',schema=DATASET_COLUMNS)\n",
    "spark.sparkContext.setLogLevel('ERROR')"
   ]
  },
  {
   "cell_type": "markdown",
   "id": "b8466681",
   "metadata": {
    "papermill": {
     "duration": 0.175335,
     "end_time": "2021-12-28T11:36:20.279839",
     "exception": false,
     "start_time": "2021-12-28T11:36:20.104504",
     "status": "completed"
    },
    "tags": []
   },
   "source": [
    "Veriler Twitter Search api’den yaralanılarak oluşturulmuştur. 1.6m satıra 6 sütuna sahiptir. Sütunlar sırasıyla\n",
    "- target (0 = negatif, 2 = nötr,4 = pozitif)\n",
    "- id \n",
    "- date\n",
    "- query (NO_QUERY)\n",
    "- user\n",
    "- text (tweet içeriği)\n",
    "\n",
    "Veri setinin resmî sitesi: http://help.sentiment140.com/for-students/\n",
    "\n",
    "Veri setinin kaggle sitesi: https://www.kaggle.com/kazanova/sentiment140\n"
   ]
  },
  {
   "cell_type": "code",
   "execution_count": 4,
   "id": "981829ac",
   "metadata": {
    "execution": {
     "iopub.execute_input": "2021-12-28T11:36:20.635165Z",
     "iopub.status.busy": "2021-12-28T11:36:20.634470Z",
     "iopub.status.idle": "2021-12-28T11:36:20.663870Z",
     "shell.execute_reply": "2021-12-28T11:36:20.664659Z"
    },
    "papermill": {
     "duration": 0.210788,
     "end_time": "2021-12-28T11:36:20.664902",
     "exception": false,
     "start_time": "2021-12-28T11:36:20.454114",
     "status": "completed"
    },
    "tags": []
   },
   "outputs": [
    {
     "name": "stdout",
     "output_type": "stream",
     "text": [
      "root\n",
      " |-- target: string (nullable = true)\n",
      " |-- ids: string (nullable = true)\n",
      " |-- date: string (nullable = true)\n",
      " |-- flag: string (nullable = true)\n",
      " |-- user: string (nullable = true)\n",
      " |-- text: string (nullable = true)\n",
      "\n"
     ]
    }
   ],
   "source": [
    "df.printSchema()"
   ]
  },
  {
   "cell_type": "code",
   "execution_count": 5,
   "id": "16d9311b",
   "metadata": {
    "execution": {
     "iopub.execute_input": "2021-12-28T11:36:21.052696Z",
     "iopub.status.busy": "2021-12-28T11:36:21.052014Z",
     "iopub.status.idle": "2021-12-28T11:36:23.251280Z",
     "shell.execute_reply": "2021-12-28T11:36:23.252125Z"
    },
    "papermill": {
     "duration": 2.388869,
     "end_time": "2021-12-28T11:36:23.252309",
     "exception": false,
     "start_time": "2021-12-28T11:36:20.863440",
     "status": "completed"
    },
    "tags": []
   },
   "outputs": [
    {
     "name": "stdout",
     "output_type": "stream",
     "text": [
      "+------+----------+--------------------+--------+---------------+--------------------+\n",
      "|target|       ids|                date|    flag|           user|                text|\n",
      "+------+----------+--------------------+--------+---------------+--------------------+\n",
      "|     0|1467810369|Mon Apr 06 22:19:...|NO_QUERY|_TheSpecialOne_|@switchfoot http:...|\n",
      "|     0|1467810672|Mon Apr 06 22:19:...|NO_QUERY|  scotthamilton|is upset that he ...|\n",
      "|     0|1467810917|Mon Apr 06 22:19:...|NO_QUERY|       mattycus|@Kenichan I dived...|\n",
      "|     0|1467811184|Mon Apr 06 22:19:...|NO_QUERY|        ElleCTF|my whole body fee...|\n",
      "|     0|1467811193|Mon Apr 06 22:19:...|NO_QUERY|         Karoli|@nationwideclass ...|\n",
      "|     0|1467811372|Mon Apr 06 22:20:...|NO_QUERY|       joy_wolf|@Kwesidei not the...|\n",
      "|     0|1467811592|Mon Apr 06 22:20:...|NO_QUERY|        mybirch|         Need a hug |\n",
      "|     0|1467811594|Mon Apr 06 22:20:...|NO_QUERY|           coZZ|@LOLTrish hey  lo...|\n",
      "|     0|1467811795|Mon Apr 06 22:20:...|NO_QUERY|2Hood4Hollywood|@Tatiana_K nope t...|\n",
      "|     0|1467812025|Mon Apr 06 22:20:...|NO_QUERY|        mimismo|@twittera que me ...|\n",
      "|     0|1467812416|Mon Apr 06 22:20:...|NO_QUERY| erinx3leannexo|spring break in p...|\n",
      "|     0|1467812579|Mon Apr 06 22:20:...|NO_QUERY|   pardonlauren|I just re-pierced...|\n",
      "|     0|1467812723|Mon Apr 06 22:20:...|NO_QUERY|           TLeC|@caregiving I cou...|\n",
      "|     0|1467812771|Mon Apr 06 22:20:...|NO_QUERY|robrobbierobert|@octolinz16 It it...|\n",
      "|     0|1467812784|Mon Apr 06 22:20:...|NO_QUERY|    bayofwolves|@smarrison i woul...|\n",
      "|     0|1467812799|Mon Apr 06 22:20:...|NO_QUERY|     HairByJess|@iamjazzyfizzle I...|\n",
      "|     0|1467812964|Mon Apr 06 22:20:...|NO_QUERY| lovesongwriter|Hollis' death sce...|\n",
      "|     0|1467813137|Mon Apr 06 22:20:...|NO_QUERY|       armotley|about to file taxes |\n",
      "|     0|1467813579|Mon Apr 06 22:20:...|NO_QUERY|     starkissed|@LettyA ahh ive a...|\n",
      "|     0|1467813782|Mon Apr 06 22:20:...|NO_QUERY|      gi_gi_bee|@FakerPattyPattz ...|\n",
      "|     0|1467813985|Mon Apr 06 22:20:...|NO_QUERY|         quanvu|@alydesigns i was...|\n",
      "|     0|1467813992|Mon Apr 06 22:20:...|NO_QUERY|     swinspeedx|one of my friend ...|\n",
      "|     0|1467814119|Mon Apr 06 22:20:...|NO_QUERY|      cooliodoc|@angry_barista I ...|\n",
      "|     0|1467814180|Mon Apr 06 22:20:...|NO_QUERY|     viJILLante|this week is not ...|\n",
      "|     0|1467814192|Mon Apr 06 22:20:...|NO_QUERY|     Ljelli3166|blagh class at 8 ...|\n",
      "+------+----------+--------------------+--------+---------------+--------------------+\n",
      "only showing top 25 rows\n",
      "\n"
     ]
    }
   ],
   "source": [
    "df.show(25)"
   ]
  },
  {
   "cell_type": "code",
   "execution_count": 6,
   "id": "f604dbbf",
   "metadata": {
    "execution": {
     "iopub.execute_input": "2021-12-28T11:36:23.615720Z",
     "iopub.status.busy": "2021-12-28T11:36:23.615067Z",
     "iopub.status.idle": "2021-12-28T11:36:27.342417Z",
     "shell.execute_reply": "2021-12-28T11:36:27.343095Z"
    },
    "papermill": {
     "duration": 3.911747,
     "end_time": "2021-12-28T11:36:27.343299",
     "exception": false,
     "start_time": "2021-12-28T11:36:23.431552",
     "status": "completed"
    },
    "tags": []
   },
   "outputs": [
    {
     "data": {
      "text/plain": [
       "1600000"
      ]
     },
     "execution_count": 6,
     "metadata": {},
     "output_type": "execute_result"
    }
   ],
   "source": [
    "df = df.dropna()\n",
    "df.count()"
   ]
  },
  {
   "cell_type": "code",
   "execution_count": 7,
   "id": "785f63d8",
   "metadata": {
    "execution": {
     "iopub.execute_input": "2021-12-28T11:36:27.730981Z",
     "iopub.status.busy": "2021-12-28T11:36:27.729688Z",
     "iopub.status.idle": "2021-12-28T11:36:27.737791Z",
     "shell.execute_reply": "2021-12-28T11:36:27.738561Z"
    },
    "papermill": {
     "duration": 0.202075,
     "end_time": "2021-12-28T11:36:27.738733",
     "exception": false,
     "start_time": "2021-12-28T11:36:27.536658",
     "status": "completed"
    },
    "tags": []
   },
   "outputs": [],
   "source": [
    "def preprocessing(sparkDF,col):\n",
    "    sparkDF = sparkDF.withColumn(col, F.regexp_replace(col, r'http\\S+', ''))\n",
    "    sparkDF = sparkDF.withColumn(col, F.regexp_replace(col, '@\\w+', ''))\n",
    "    sparkDF = sparkDF.withColumn(col, F.regexp_replace(col, '#', ''))\n",
    "    sparkDF = sparkDF.withColumn(col, F.regexp_replace(col, 'RT', ''))\n",
    "    sparkDF = sparkDF.withColumn(col, F.regexp_replace(col, ':', ''))\n",
    "    sparkDF = sparkDF.withColumn(col, F.regexp_replace(col, '[^A-Za-z0-9]+', ' '))\n",
    "    sparkDF = sparkDF.withColumn(col, F.regexp_replace(col, '\\-', ''))\n",
    "    sparkDF = sparkDF.withColumn(col, F.regexp_replace(col, '[ ]+', ' '))\n",
    "    sparkDF = sparkDF.withColumn(col, F.trim(sparkDF[col]))\n",
    "\n",
    "    return sparkDF"
   ]
  },
  {
   "cell_type": "code",
   "execution_count": 8,
   "id": "79d20a0f",
   "metadata": {
    "execution": {
     "iopub.execute_input": "2021-12-28T11:36:28.122647Z",
     "iopub.status.busy": "2021-12-28T11:36:28.121950Z",
     "iopub.status.idle": "2021-12-28T11:36:28.500905Z",
     "shell.execute_reply": "2021-12-28T11:36:28.499804Z"
    },
    "papermill": {
     "duration": 0.564275,
     "end_time": "2021-12-28T11:36:28.501152",
     "exception": false,
     "start_time": "2021-12-28T11:36:27.936877",
     "status": "completed"
    },
    "tags": []
   },
   "outputs": [],
   "source": [
    "df = preprocessing(df,'text')"
   ]
  },
  {
   "cell_type": "code",
   "execution_count": 9,
   "id": "c5d78208",
   "metadata": {
    "execution": {
     "iopub.execute_input": "2021-12-28T11:36:29.252804Z",
     "iopub.status.busy": "2021-12-28T11:36:29.251766Z",
     "iopub.status.idle": "2021-12-28T11:36:29.589430Z",
     "shell.execute_reply": "2021-12-28T11:36:29.588295Z"
    },
    "papermill": {
     "duration": 0.528097,
     "end_time": "2021-12-28T11:36:29.589634",
     "exception": false,
     "start_time": "2021-12-28T11:36:29.061537",
     "status": "completed"
    },
    "tags": []
   },
   "outputs": [
    {
     "name": "stdout",
     "output_type": "stream",
     "text": [
      "+------+----------+--------------------+--------+---------------+--------------------+\n",
      "|target|       ids|                date|    flag|           user|                text|\n",
      "+------+----------+--------------------+--------+---------------+--------------------+\n",
      "|     0|1467810369|Mon Apr 06 22:19:...|NO_QUERY|_TheSpecialOne_|Awww that s a bum...|\n",
      "|     0|1467810672|Mon Apr 06 22:19:...|NO_QUERY|  scotthamilton|is upset that he ...|\n",
      "|     0|1467810917|Mon Apr 06 22:19:...|NO_QUERY|       mattycus|I dived many time...|\n",
      "|     0|1467811184|Mon Apr 06 22:19:...|NO_QUERY|        ElleCTF|my whole body fee...|\n",
      "|     0|1467811193|Mon Apr 06 22:19:...|NO_QUERY|         Karoli|no it s not behav...|\n",
      "|     0|1467811372|Mon Apr 06 22:20:...|NO_QUERY|       joy_wolf|  not the whole crew|\n",
      "|     0|1467811592|Mon Apr 06 22:20:...|NO_QUERY|        mybirch|          Need a hug|\n",
      "|     0|1467811594|Mon Apr 06 22:20:...|NO_QUERY|           coZZ|hey long time no ...|\n",
      "|     0|1467811795|Mon Apr 06 22:20:...|NO_QUERY|2Hood4Hollywood|nope they didn t ...|\n",
      "|     0|1467812025|Mon Apr 06 22:20:...|NO_QUERY|        mimismo|        que me muera|\n",
      "|     0|1467812416|Mon Apr 06 22:20:...|NO_QUERY| erinx3leannexo|spring break in p...|\n",
      "|     0|1467812579|Mon Apr 06 22:20:...|NO_QUERY|   pardonlauren|I just re pierced...|\n",
      "|     0|1467812723|Mon Apr 06 22:20:...|NO_QUERY|           TLeC|I couldn t bear t...|\n",
      "|     0|1467812771|Mon Apr 06 22:20:...|NO_QUERY|robrobbierobert|It it counts idk ...|\n",
      "|     0|1467812784|Mon Apr 06 22:20:...|NO_QUERY|    bayofwolves|i would ve been t...|\n",
      "|     0|1467812799|Mon Apr 06 22:20:...|NO_QUERY|     HairByJess|I wish I got to w...|\n",
      "|     0|1467812964|Mon Apr 06 22:20:...|NO_QUERY| lovesongwriter|Hollis death scen...|\n",
      "|     0|1467813137|Mon Apr 06 22:20:...|NO_QUERY|       armotley| about to file taxes|\n",
      "|     0|1467813579|Mon Apr 06 22:20:...|NO_QUERY|     starkissed|ahh ive always wa...|\n",
      "|     0|1467813782|Mon Apr 06 22:20:...|NO_QUERY|      gi_gi_bee|Oh dear Were you ...|\n",
      "|     0|1467813985|Mon Apr 06 22:20:...|NO_QUERY|         quanvu|i was out most of...|\n",
      "|     0|1467813992|Mon Apr 06 22:20:...|NO_QUERY|     swinspeedx|one of my friend ...|\n",
      "|     0|1467814119|Mon Apr 06 22:20:...|NO_QUERY|      cooliodoc|I baked you a cak...|\n",
      "|     0|1467814180|Mon Apr 06 22:20:...|NO_QUERY|     viJILLante|this week is not ...|\n",
      "|     0|1467814192|Mon Apr 06 22:20:...|NO_QUERY|     Ljelli3166|blagh class at 8 ...|\n",
      "+------+----------+--------------------+--------+---------------+--------------------+\n",
      "only showing top 25 rows\n",
      "\n"
     ]
    }
   ],
   "source": [
    "df.show(25)"
   ]
  },
  {
   "cell_type": "code",
   "execution_count": 10,
   "id": "f7585b1e",
   "metadata": {
    "execution": {
     "iopub.execute_input": "2021-12-28T11:36:30.379349Z",
     "iopub.status.busy": "2021-12-28T11:36:30.378311Z",
     "iopub.status.idle": "2021-12-28T11:36:37.103774Z",
     "shell.execute_reply": "2021-12-28T11:36:37.102936Z"
    },
    "papermill": {
     "duration": 6.913831,
     "end_time": "2021-12-28T11:36:37.104011",
     "exception": false,
     "start_time": "2021-12-28T11:36:30.190180",
     "status": "completed"
    },
    "tags": []
   },
   "outputs": [
    {
     "name": "stdout",
     "output_type": "stream",
     "text": [
      "+---------------+-----+\n",
      "|           user|count|\n",
      "+---------------+-----+\n",
      "|       lost_dog|  549|\n",
      "|        webwoke|  345|\n",
      "|       tweetpet|  310|\n",
      "|SallytheShizzle|  281|\n",
      "|    VioletsCRUK|  279|\n",
      "|    mcraddictal|  276|\n",
      "|       tsarnick|  248|\n",
      "|    what_bugs_u|  246|\n",
      "|    Karen230683|  238|\n",
      "|      DarkPiano|  236|\n",
      "+---------------+-----+\n",
      "only showing top 10 rows\n",
      "\n"
     ]
    }
   ],
   "source": [
    "# df.groupby(\"user\").count().show()\n",
    "df.groupBy('user').count().sort('count',ascending=False).show(10)"
   ]
  },
  {
   "cell_type": "code",
   "execution_count": 11,
   "id": "7b69c228",
   "metadata": {
    "execution": {
     "iopub.execute_input": "2021-12-28T11:36:37.547910Z",
     "iopub.status.busy": "2021-12-28T11:36:37.546902Z",
     "iopub.status.idle": "2021-12-28T11:36:37.549219Z",
     "shell.execute_reply": "2021-12-28T11:36:37.549673Z"
    },
    "papermill": {
     "duration": 0.189732,
     "end_time": "2021-12-28T11:36:37.549839",
     "exception": false,
     "start_time": "2021-12-28T11:36:37.360107",
     "status": "completed"
    },
    "tags": []
   },
   "outputs": [],
   "source": [
    "from pyspark.sql import SparkSession\n",
    "from pyspark.sql.functions import *\n",
    "from pyspark.sql.types import *\n",
    "from pyspark.sql import functions as F"
   ]
  },
  {
   "cell_type": "code",
   "execution_count": 12,
   "id": "5c66d173",
   "metadata": {
    "execution": {
     "iopub.execute_input": "2021-12-28T11:36:38.306870Z",
     "iopub.status.busy": "2021-12-28T11:36:38.304781Z",
     "iopub.status.idle": "2021-12-28T11:36:38.336451Z",
     "shell.execute_reply": "2021-12-28T11:36:38.335800Z"
    },
    "papermill": {
     "duration": 0.220146,
     "end_time": "2021-12-28T11:36:38.336608",
     "exception": false,
     "start_time": "2021-12-28T11:36:38.116462",
     "status": "completed"
    },
    "tags": []
   },
   "outputs": [],
   "source": [
    "(train_set, val_set, test_set) = df.randomSplit([0.98, 0.01, 0.01], seed = 99)"
   ]
  },
  {
   "cell_type": "code",
   "execution_count": 13,
   "id": "7a92dfae",
   "metadata": {
    "execution": {
     "iopub.execute_input": "2021-12-28T11:36:39.075477Z",
     "iopub.status.busy": "2021-12-28T11:36:39.074798Z",
     "iopub.status.idle": "2021-12-28T11:37:58.999837Z",
     "shell.execute_reply": "2021-12-28T11:37:58.999069Z"
    },
    "papermill": {
     "duration": 80.117952,
     "end_time": "2021-12-28T11:37:59.000050",
     "exception": false,
     "start_time": "2021-12-28T11:36:38.882098",
     "status": "completed"
    },
    "tags": []
   },
   "outputs": [
    {
     "name": "stdout",
     "output_type": "stream",
     "text": [
      "+------+----------+--------------------+--------+---------------+--------------------+--------------------+--------------------+--------------------+-----+\n",
      "|target|       ids|                date|    flag|           user|                text|               words|                  tf|            features|label|\n",
      "+------+----------+--------------------+--------+---------------+--------------------+--------------------+--------------------+--------------------+-----+\n",
      "|     0|1467810369|Mon Apr 06 22:19:...|NO_QUERY|_TheSpecialOne_|Awww that s a bum...|[awww, that, s, a...|(65536,[18354,216...|(65536,[18354,216...|  0.0|\n",
      "|     0|1467810672|Mon Apr 06 22:19:...|NO_QUERY|  scotthamilton|is upset that he ...|[is, upset, that,...|(65536,[1981,3085...|(65536,[1981,3085...|  0.0|\n",
      "|     0|1467810917|Mon Apr 06 22:19:...|NO_QUERY|       mattycus|I dived many time...|[i, dived, many, ...|(65536,[2548,2888...|(65536,[2548,2888...|  0.0|\n",
      "|     0|1467811184|Mon Apr 06 22:19:...|NO_QUERY|        ElleCTF|my whole body fee...|[my, whole, body,...|(65536,[1880,9243...|(65536,[1880,9243...|  0.0|\n",
      "|     0|1467811193|Mon Apr 06 22:19:...|NO_QUERY|         Karoli|no it s not behav...|[no, it, s, not, ...|(65536,[1968,8538...|(65536,[1968,8538...|  0.0|\n",
      "+------+----------+--------------------+--------+---------------+--------------------+--------------------+--------------------+--------------------+-----+\n",
      "only showing top 5 rows\n",
      "\n"
     ]
    }
   ],
   "source": [
    "from pyspark.ml.feature import HashingTF, IDF, Tokenizer\n",
    "from pyspark.ml.feature import StringIndexer\n",
    "from pyspark.ml import Pipeline\n",
    "\n",
    "tokenizer = Tokenizer(inputCol=\"text\", outputCol=\"words\")\n",
    "hashtf = HashingTF(numFeatures=2**16, inputCol=\"words\", outputCol='tf')\n",
    "idf = IDF(inputCol='tf', outputCol=\"features\", minDocFreq=5) #minDocFreq: remove sparse terms\n",
    "label_stringIdx = StringIndexer(inputCol = \"target\", outputCol = \"label\")\n",
    "pipeline = Pipeline(stages=[tokenizer, hashtf, idf, label_stringIdx])\n",
    "\n",
    "pipelineFit = pipeline.fit(train_set)\n",
    "train_df = pipelineFit.transform(train_set)\n",
    "val_df = pipelineFit.transform(val_set)\n",
    "train_df.show(5)"
   ]
  },
  {
   "cell_type": "code",
   "execution_count": 14,
   "id": "1edb4604",
   "metadata": {
    "execution": {
     "iopub.execute_input": "2021-12-28T11:37:59.748512Z",
     "iopub.status.busy": "2021-12-28T11:37:59.747824Z",
     "iopub.status.idle": "2021-12-28T11:37:59.753114Z",
     "shell.execute_reply": "2021-12-28T11:37:59.752470Z"
    },
    "papermill": {
     "duration": 0.193936,
     "end_time": "2021-12-28T11:37:59.753265",
     "exception": false,
     "start_time": "2021-12-28T11:37:59.559329",
     "status": "completed"
    },
    "tags": []
   },
   "outputs": [
    {
     "name": "stdout",
     "output_type": "stream",
     "text": [
      "root\n",
      " |-- target: string (nullable = true)\n",
      " |-- ids: string (nullable = true)\n",
      " |-- date: string (nullable = true)\n",
      " |-- flag: string (nullable = true)\n",
      " |-- user: string (nullable = true)\n",
      " |-- text: string (nullable = true)\n",
      " |-- words: array (nullable = true)\n",
      " |    |-- element: string (containsNull = true)\n",
      " |-- tf: vector (nullable = true)\n",
      " |-- features: vector (nullable = true)\n",
      " |-- label: double (nullable = false)\n",
      "\n"
     ]
    }
   ],
   "source": [
    "train_df.printSchema()"
   ]
  },
  {
   "cell_type": "code",
   "execution_count": 15,
   "id": "79be5d2f",
   "metadata": {
    "execution": {
     "iopub.execute_input": "2021-12-28T11:38:00.129052Z",
     "iopub.status.busy": "2021-12-28T11:38:00.128280Z",
     "iopub.status.idle": "2021-12-28T11:38:10.126367Z",
     "shell.execute_reply": "2021-12-28T11:38:10.125487Z"
    },
    "papermill": {
     "duration": 10.188346,
     "end_time": "2021-12-28T11:38:10.126591",
     "exception": false,
     "start_time": "2021-12-28T11:37:59.938245",
     "status": "completed"
    },
    "tags": []
   },
   "outputs": [
    {
     "name": "stdout",
     "output_type": "stream",
     "text": [
      "+------+----------+--------------------+--------+-------------+--------------------+--------------------+--------------------+--------------------+-----+\n",
      "|target|       ids|                date|    flag|         user|                text|               words|                  tf|            features|label|\n",
      "+------+----------+--------------------+--------+-------------+--------------------+--------------------+--------------------+--------------------+-----+\n",
      "|     0|1467813579|Mon Apr 06 22:20:...|NO_QUERY|   starkissed|ahh ive always wa...|[ahh, ive, always...|(65536,[8538,1424...|(65536,[8538,1424...|  0.0|\n",
      "|     0|1467814438|Mon Apr 06 22:20:...|NO_QUERY|ChicagoCubbie|I hate when I hav...|[i, hate, when, i...|(65536,[7173,1223...|(65536,[7173,1223...|  0.0|\n",
      "|     0|1467838362|Mon Apr 06 22:26:...|NO_QUERY|      Zella17|I m sooo sad they...|[i, m, sooo, sad,...|(65536,[1880,2062...|(65536,[1880,2062...|  0.0|\n",
      "|     0|1467874103|Mon Apr 06 22:36:...|NO_QUERY|  Lisaherrity|poor john this is...|[poor, john, this...|(65536,[12227,160...|(65536,[12227,160...|  0.0|\n",
      "|     0|1467889231|Mon Apr 06 22:40:...|NO_QUERY|      luannem|All this time you...|[all, this, time,...|(65536,[6498,8789...|(65536,[6498,8789...|  0.0|\n",
      "+------+----------+--------------------+--------+-------------+--------------------+--------------------+--------------------+--------------------+-----+\n",
      "only showing top 5 rows\n",
      "\n"
     ]
    }
   ],
   "source": [
    "val_df.show(5)"
   ]
  },
  {
   "cell_type": "code",
   "execution_count": 16,
   "id": "2adefcda",
   "metadata": {
    "execution": {
     "iopub.execute_input": "2021-12-28T11:38:10.512938Z",
     "iopub.status.busy": "2021-12-28T11:38:10.511796Z",
     "iopub.status.idle": "2021-12-28T11:38:10.517995Z",
     "shell.execute_reply": "2021-12-28T11:38:10.516820Z"
    },
    "papermill": {
     "duration": 0.198358,
     "end_time": "2021-12-28T11:38:10.518190",
     "exception": false,
     "start_time": "2021-12-28T11:38:10.319832",
     "status": "completed"
    },
    "tags": []
   },
   "outputs": [
    {
     "name": "stdout",
     "output_type": "stream",
     "text": [
      "root\n",
      " |-- target: string (nullable = true)\n",
      " |-- ids: string (nullable = true)\n",
      " |-- date: string (nullable = true)\n",
      " |-- flag: string (nullable = true)\n",
      " |-- user: string (nullable = true)\n",
      " |-- text: string (nullable = true)\n",
      " |-- words: array (nullable = true)\n",
      " |    |-- element: string (containsNull = true)\n",
      " |-- tf: vector (nullable = true)\n",
      " |-- features: vector (nullable = true)\n",
      " |-- label: double (nullable = false)\n",
      "\n"
     ]
    }
   ],
   "source": [
    "val_df.printSchema()"
   ]
  },
  {
   "cell_type": "code",
   "execution_count": 17,
   "id": "eb9d77c1",
   "metadata": {
    "execution": {
     "iopub.execute_input": "2021-12-28T11:38:11.277597Z",
     "iopub.status.busy": "2021-12-28T11:38:11.276638Z",
     "iopub.status.idle": "2021-12-28T11:40:06.605786Z",
     "shell.execute_reply": "2021-12-28T11:40:06.604701Z"
    },
    "papermill": {
     "duration": 115.521196,
     "end_time": "2021-12-28T11:40:06.605947",
     "exception": false,
     "start_time": "2021-12-28T11:38:11.084751",
     "status": "completed"
    },
    "tags": []
   },
   "outputs": [],
   "source": [
    "from pyspark.ml.classification import LogisticRegression\n",
    "lr = LogisticRegression(maxIter=100)\n",
    "lrModel = lr.fit(train_df)\n",
    "predictionsLojistic = lrModel.transform(val_df)"
   ]
  },
  {
   "cell_type": "code",
   "execution_count": 18,
   "id": "aa68e94c",
   "metadata": {
    "execution": {
     "iopub.execute_input": "2021-12-28T11:40:07.745469Z",
     "iopub.status.busy": "2021-12-28T11:40:07.744342Z",
     "iopub.status.idle": "2021-12-28T11:40:19.312103Z",
     "shell.execute_reply": "2021-12-28T11:40:19.311127Z"
    },
    "papermill": {
     "duration": 11.856345,
     "end_time": "2021-12-28T11:40:19.312539",
     "exception": false,
     "start_time": "2021-12-28T11:40:07.456194",
     "status": "completed"
    },
    "tags": []
   },
   "outputs": [
    {
     "name": "stdout",
     "output_type": "stream",
     "text": [
      "+------+----------+--------------------+--------+--------------+--------------------+--------------------+--------------------+--------------------+-----+--------------------+--------------------+----------+\n",
      "|target|       ids|                date|    flag|          user|                text|               words|                  tf|            features|label|       rawPrediction|         probability|prediction|\n",
      "+------+----------+--------------------+--------+--------------+--------------------+--------------------+--------------------+--------------------+-----+--------------------+--------------------+----------+\n",
      "|     0|1467813579|Mon Apr 06 22:20:...|NO_QUERY|    starkissed|ahh ive always wa...|[ahh, ive, always...|(65536,[8538,1424...|(65536,[8538,1424...|  0.0|[-1.0858743146480...|[0.25239596767567...|       1.0|\n",
      "|     0|1467814438|Mon Apr 06 22:20:...|NO_QUERY| ChicagoCubbie|I hate when I hav...|[i, hate, when, i...|(65536,[7173,1223...|(65536,[7173,1223...|  0.0|[1.89950725223183...|[0.86983574615142...|       0.0|\n",
      "|     0|1467838362|Mon Apr 06 22:26:...|NO_QUERY|       Zella17|I m sooo sad they...|[i, m, sooo, sad,...|(65536,[1880,2062...|(65536,[1880,2062...|  0.0|[4.83605822259908...|[0.99212423663394...|       0.0|\n",
      "|     0|1467874103|Mon Apr 06 22:36:...|NO_QUERY|   Lisaherrity|poor john this is...|[poor, john, this...|(65536,[12227,160...|(65536,[12227,160...|  0.0|[2.63761105109999...|[0.93324328625148...|       0.0|\n",
      "|     0|1467889231|Mon Apr 06 22:40:...|NO_QUERY|       luannem|All this time you...|[all, this, time,...|(65536,[6498,8789...|(65536,[6498,8789...|  0.0|[0.23941390111472...|[0.55956920935935...|       0.0|\n",
      "|     0|1467890079|Mon Apr 06 22:40:...|NO_QUERY|      BATMANNN|It stillllll hasn...|[it, stillllll, h...|(65536,[11086,115...|(65536,[11086,115...|  0.0|[1.77195027591687...|[0.85470003928325...|       0.0|\n",
      "|     0|1467899753|Mon Apr 06 22:43:...|NO_QUERY|    Sheezy3380|New Testament Tes...|[new, testament, ...|(65536,[14916,242...|(65536,[14916,242...|  0.0|[-1.3650343065918...|[0.20342331373450...|       1.0|\n",
      "|     0|1467917484|Mon Apr 06 22:48:...|NO_QUERY|FuzzyPandaButt|This trolley has ...|[this, trolley, h...|(65536,[1714,4006...|(65536,[1714,4006...|  0.0|[-1.6891109387512...|[0.15589279611160...|       1.0|\n",
      "|     0|1468093249|Mon Apr 06 23:40:...|NO_QUERY|    mandylovee|Ohhhh that sucks ...|[ohhhh, that, suc...|(65536,[12910,190...|(65536,[12910,190...|  0.0|[0.67439870055504...|[0.66248740104923...|       0.0|\n",
      "|     0|1468192771|Tue Apr 07 00:13:...|NO_QUERY| kantstopkaren|why must I be awa...|[why, must, i, be...|(65536,[8286,9408...|(65536,[8286,9408...|  0.0|[4.10349037880351...|[0.98375338048565...|       0.0|\n",
      "|     0|1468238888|Tue Apr 07 00:28:...|NO_QUERY|   travolution|No TravoRadio thi...|[no, travoradio, ...|(65536,[600,25217...|(65536,[600,25217...|  0.0|[0.32203785330531...|[0.57982081217400...|       0.0|\n",
      "|     0|1468254538|Tue Apr 07 00:34:...|NO_QUERY|     chrisdahl|boxee now has Pan...|[boxee, now, has,...|(65536,[1714,1666...|(65536,[1714,1666...|  0.0|[3.57277203961117...|[0.97268892535107...|       0.0|\n",
      "|     0|1468272656|Tue Apr 07 00:40:...|NO_QUERY|        BaBy_N|gosh it t 939 am ...|[gosh, it, t, 939...|(65536,[1198,8923...|(65536,[1198,8923...|  0.0|[4.58974696323951...|[0.98994666814047...|       0.0|\n",
      "|     0|1468336160|Tue Apr 07 01:02:...|NO_QUERY|       amiiiee|sucked in heather...|[sucked, in, heat...|(65536,[6512,7863...|(65536,[6512,7863...|  0.0|[1.13937836145416...|[0.75756548713687...|       0.0|\n",
      "|     0|1468338165|Tue Apr 07 01:03:...|NO_QUERY|  lesleyeccles|Devastated that t...|[devastated, that...|(65536,[12409,141...|(65536,[12409,141...|  0.0|[3.32854426308694...|[0.96539517035670...|       0.0|\n",
      "|     0|1468378901|Tue Apr 07 01:18:...|NO_QUERY|        Synoiz|Morning tweetpeep...|[morning, tweetpe...|(65536,[600,1880,...|(65536,[600,1880,...|  0.0|[2.74056859046547...|[0.93937848403879...|       0.0|\n",
      "|     0|1468400441|Tue Apr 07 01:26:...|NO_QUERY|     alexboles|Finished the seco...|[finished, the, s...|(65536,[338,5877,...|(65536,[338,5877,...|  0.0|[-0.1429984655579...|[0.46431117831517...|       1.0|\n",
      "|     0|1468408276|Tue Apr 07 01:29:...|NO_QUERY|   rgcpapillon|i know they block...|[i, know, they, b...|(65536,[3284,3495...|(65536,[3284,3495...|  0.0|[1.52113267772605...|[0.82070521259194...|       0.0|\n",
      "|     0|1468421088|Tue Apr 07 01:33:...|NO_QUERY|   Josh_Bednar|Me and Scobz goal...|[me, and, scobz, ...|(65536,[3121,4629...|(65536,[3121,4629...|  0.0|[0.64412889391709...|[0.65568620540582...|       0.0|\n",
      "|     0|1468442668|Tue Apr 07 01:41:...|NO_QUERY|      shotdown|I wanna watch Dol...|[i, wanna, watch,...|(65536,[518,11228...|(65536,[518,11228...|  0.0|[1.99464741780068...|[0.88023394472105...|       0.0|\n",
      "|     0|1468479697|Tue Apr 07 01:55:...|NO_QUERY|         AlexK|it seems like my ...|[it, seems, like,...|(65536,[559,8465,...|(65536,[559,8465,...|  0.0|[0.21171320558121...|[0.55273148537601...|       0.0|\n",
      "|     0|1468527813|Tue Apr 07 02:13:...|NO_QUERY|LoveYouCuddles|just woke up late...|[just, woke, up, ...|(65536,[3191,9837...|(65536,[3191,9837...|  0.0|[3.25669042498468...|[0.96291278086762...|       0.0|\n",
      "|     0|1468552892|Tue Apr 07 02:22:...|NO_QUERY|mikaylaSTACKkk|Andre Riue on nei...|[andre, riue, on,...|(65536,[1714,1880...|(65536,[1714,1880...|  0.0|[0.97266389473942...|[0.72565014997408...|       0.0|\n",
      "|     0|1468575292|Tue Apr 07 02:30:...|NO_QUERY|     LDelphian|Guess I should go...|[guess, i, should...|(65536,[5923,7129...|(65536,[5923,7129...|  0.0|[5.55774654396528...|[0.99615736358775...|       0.0|\n",
      "|     0|1468592042|Tue Apr 07 02:36:...|NO_QUERY|  nunoncastors|Couldn t agree mo...|[couldn, t, agree...|(65536,[2548,3318...|(65536,[2548,3318...|  0.0|[0.36176911395472...|[0.58946861909951...|       0.0|\n",
      "+------+----------+--------------------+--------+--------------+--------------------+--------------------+--------------------+--------------------+-----+--------------------+--------------------+----------+\n",
      "only showing top 25 rows\n",
      "\n"
     ]
    }
   ],
   "source": [
    "predictionsLojistic.show(25)"
   ]
  },
  {
   "cell_type": "code",
   "execution_count": 19,
   "id": "dd7b2a01",
   "metadata": {
    "execution": {
     "iopub.execute_input": "2021-12-28T11:40:19.726622Z",
     "iopub.status.busy": "2021-12-28T11:40:19.725992Z",
     "iopub.status.idle": "2021-12-28T11:40:19.729989Z",
     "shell.execute_reply": "2021-12-28T11:40:19.730658Z"
    },
    "papermill": {
     "duration": 0.208474,
     "end_time": "2021-12-28T11:40:19.730826",
     "exception": false,
     "start_time": "2021-12-28T11:40:19.522352",
     "status": "completed"
    },
    "tags": []
   },
   "outputs": [
    {
     "name": "stdout",
     "output_type": "stream",
     "text": [
      "root\n",
      " |-- target: string (nullable = true)\n",
      " |-- ids: string (nullable = true)\n",
      " |-- date: string (nullable = true)\n",
      " |-- flag: string (nullable = true)\n",
      " |-- user: string (nullable = true)\n",
      " |-- text: string (nullable = true)\n",
      " |-- words: array (nullable = true)\n",
      " |    |-- element: string (containsNull = true)\n",
      " |-- tf: vector (nullable = true)\n",
      " |-- features: vector (nullable = true)\n",
      " |-- label: double (nullable = false)\n",
      " |-- rawPrediction: vector (nullable = true)\n",
      " |-- probability: vector (nullable = true)\n",
      " |-- prediction: double (nullable = false)\n",
      "\n"
     ]
    }
   ],
   "source": [
    "predictionsLojistic.printSchema()"
   ]
  },
  {
   "cell_type": "code",
   "execution_count": 20,
   "id": "d5200a33",
   "metadata": {
    "execution": {
     "iopub.execute_input": "2021-12-28T11:40:20.514415Z",
     "iopub.status.busy": "2021-12-28T11:40:20.513699Z",
     "iopub.status.idle": "2021-12-28T11:40:43.387807Z",
     "shell.execute_reply": "2021-12-28T11:40:43.386951Z"
    },
    "papermill": {
     "duration": 23.07297,
     "end_time": "2021-12-28T11:40:43.388084",
     "exception": false,
     "start_time": "2021-12-28T11:40:20.315114",
     "status": "completed"
    },
    "tags": []
   },
   "outputs": [
    {
     "data": {
      "text/plain": [
       "0.8542319985469665"
      ]
     },
     "execution_count": 20,
     "metadata": {},
     "output_type": "execute_result"
    }
   ],
   "source": [
    "from pyspark.ml.evaluation import BinaryClassificationEvaluator\n",
    "evaluator = BinaryClassificationEvaluator(rawPredictionCol=\"rawPrediction\")\n",
    "evaluator.evaluate(predictionsLojistic)"
   ]
  },
  {
   "cell_type": "code",
   "execution_count": 21,
   "id": "61c4e56a",
   "metadata": {
    "execution": {
     "iopub.execute_input": "2021-12-28T11:40:43.822861Z",
     "iopub.status.busy": "2021-12-28T11:40:43.822088Z",
     "iopub.status.idle": "2021-12-28T11:41:25.083591Z",
     "shell.execute_reply": "2021-12-28T11:41:25.084165Z"
    },
    "papermill": {
     "duration": 41.462527,
     "end_time": "2021-12-28T11:41:25.084376",
     "exception": false,
     "start_time": "2021-12-28T11:40:43.621849",
     "status": "completed"
    },
    "tags": []
   },
   "outputs": [
    {
     "data": {
      "text/plain": [
       "0.7843501984126984"
      ]
     },
     "execution_count": 21,
     "metadata": {},
     "output_type": "execute_result"
    }
   ],
   "source": [
    "accuracy = predictionsLojistic.filter(predictionsLojistic.label == predictionsLojistic.prediction).count() / float(val_set.count())\n",
    "accuracy"
   ]
  },
  {
   "cell_type": "code",
   "execution_count": 22,
   "id": "f1b46fb1",
   "metadata": {
    "execution": {
     "iopub.execute_input": "2021-12-28T11:41:25.502497Z",
     "iopub.status.busy": "2021-12-28T11:41:25.501454Z",
     "iopub.status.idle": "2021-12-28T11:41:25.670717Z",
     "shell.execute_reply": "2021-12-28T11:41:25.669629Z"
    },
    "papermill": {
     "duration": 0.37074,
     "end_time": "2021-12-28T11:41:25.670940",
     "exception": false,
     "start_time": "2021-12-28T11:41:25.300200",
     "status": "completed"
    },
    "tags": []
   },
   "outputs": [],
   "source": [
    "test_df = pipelineFit.transform(test_set)\n",
    "testPredictionsLogistic = lrModel.transform(test_df)"
   ]
  },
  {
   "cell_type": "code",
   "execution_count": 23,
   "id": "2540f1ad",
   "metadata": {
    "execution": {
     "iopub.execute_input": "2021-12-28T11:41:26.073865Z",
     "iopub.status.busy": "2021-12-28T11:41:26.073186Z",
     "iopub.status.idle": "2021-12-28T11:41:36.257060Z",
     "shell.execute_reply": "2021-12-28T11:41:36.256283Z"
    },
    "papermill": {
     "duration": 10.384376,
     "end_time": "2021-12-28T11:41:36.257216",
     "exception": false,
     "start_time": "2021-12-28T11:41:25.872840",
     "status": "completed"
    },
    "tags": []
   },
   "outputs": [
    {
     "name": "stdout",
     "output_type": "stream",
     "text": [
      "+------+----------+--------------------+--------+---------------+--------------------+--------------------+--------------------+--------------------+-----+--------------------+--------------------+----------+\n",
      "|target|       ids|                date|    flag|           user|                text|               words|                  tf|            features|label|       rawPrediction|         probability|prediction|\n",
      "+------+----------+--------------------+--------+---------------+--------------------+--------------------+--------------------+--------------------+-----+--------------------+--------------------+----------+\n",
      "|     0|1467814119|Mon Apr 06 22:20:...|NO_QUERY|      cooliodoc|I baked you a cak...|[i, baked, you, a...|(65536,[13007,183...|(65536,[13007,183...|  0.0|[-0.6593204018116...|[0.34089229037371...|       1.0|\n",
      "|     0|1467907751|Mon Apr 06 22:45:...|NO_QUERY|   mementototem|STOU site not upd...|[stou, site, not,...|(65536,[1328,1523...|(65536,[1328,1523...|  0.0|[1.45445520355709...|[0.81068314734342...|       0.0|\n",
      "|     0|1467909292|Mon Apr 06 22:45:...|NO_QUERY|         satori|yes it will be it...|[yes, it, will, b...|(65536,[6964,1413...|(65536,[6964,1413...|  0.0|[-0.6789418832698...|[0.33649750418761...|       1.0|\n",
      "|     0|1467925327|Mon Apr 06 22:50:...|NO_QUERY|         br3nda|renting but very ...|[renting, but, ve...|(65536,[13432,151...|(65536,[13432,151...|  0.0|[-1.3586965327040...|[0.20445223154359...|       1.0|\n",
      "|     0|1467987971|Mon Apr 06 23:08:...|NO_QUERY|    txcranberry|did you see Donni...|[did, you, see, d...|(65536,[1965,6909...|(65536,[1965,6909...|  0.0|[-0.7041369072375...|[0.33089566127495...|       1.0|\n",
      "|     0|1467999499|Mon Apr 06 23:11:...|NO_QUERY|        jj_1983|Back at work John...|[back, at, work, ...|(65536,[1198,2258...|(65536,[1198,2258...|  0.0|[0.69530450890809...|[0.66714590046961...|       0.0|\n",
      "|     0|1468034035|Mon Apr 06 23:21:...|NO_QUERY|  divingkid2001|is in study hall ...|[is, in, study, h...|(65536,[6640,9056...|(65536,[6640,9056...|  0.0|[0.84642909690858...|[0.69981752797595...|       0.0|\n",
      "|     0|1468053118|Mon Apr 06 23:28:...|NO_QUERY|   earthtoryann|Not feeling well ...|[not, feeling, we...|(65536,[1696,2606...|(65536,[1696,2606...|  0.0|[9.95855161761995...|[0.99995268101353...|       0.0|\n",
      "|     0|1468061127|Mon Apr 06 23:30:...|NO_QUERY|     gabysslave|                    |                  []|(65536,[52572],[1...|(65536,[52572],[6...|  0.0|[-0.1419862336267...|[0.46456295610034...|       1.0|\n",
      "|     0|1468167936|Tue Apr 07 00:05:...|NO_QUERY|   dontlookaway|body clock still ...|[body, clock, sti...|(65536,[1198,3191...|(65536,[1198,3191...|  0.0|[1.70314158192780...|[0.84594459831645...|       0.0|\n",
      "|     0|1468168653|Tue Apr 07 00:05:...|NO_QUERY|   Tiffanyann86|ur phone and its ...|[ur, phone, and, ...|(65536,[1714,6122...|(65536,[1714,6122...|  0.0|[4.62237021469323...|[0.99026620755202...|       0.0|\n",
      "|     0|1468206216|Tue Apr 07 00:17:...|NO_QUERY|        Jared64|Feeling soree bad...|[feeling, soree, ...|(65536,[6661,1384...|(65536,[6661,1384...|  0.0|[4.30129997389865...|[0.98663024099151...|       0.0|\n",
      "|     0|1468221048|Tue Apr 07 00:22:...|NO_QUERY|         katc84|isnt feelin 100 2day|[isnt, feelin, 10...|(65536,[10580,219...|(65536,[10580,219...|  0.0|[1.80116283608377...|[0.85829042742581...|       0.0|\n",
      "|     0|1468253642|Tue Apr 07 00:33:...|NO_QUERY| somanydialects|on the coach gonn...|[on, the, coach, ...|(65536,[1880,8378...|(65536,[1880,8378...|  0.0|[-1.0612622807522...|[0.25706830511223...|       1.0|\n",
      "|     0|1468254689|Tue Apr 07 00:34:...|NO_QUERY| chocolatekate6|       i hurt my leg|  [i, hurt, my, leg]|(65536,[19036,443...|(65536,[19036,443...|  0.0|[1.84448982047001...|[0.86347884577996...|       0.0|\n",
      "|     0|1468258981|Tue Apr 07 00:35:...|NO_QUERY|     emmmmmmmmm|i got smoke in my...|[i, got, smoke, i...|(65536,[8449,1666...|(65536,[8449,1666...|  0.0|[0.72134787759270...|[0.67290375981998...|       0.0|\n",
      "|     0|1468281484|Tue Apr 07 00:43:...|NO_QUERY|        MonBon_|2morw I get my bl...|[2morw, i, get, m...|(65536,[109,2298,...|(65536,[109,2298,...|  0.0|[4.49090624955605...|[0.98891380188661...|       0.0|\n",
      "|     0|1468290215|Tue Apr 07 00:46:...|NO_QUERY|  SarahAnnGreen|Got to pause twil...|[got, to, pause, ...|(65536,[1981,3774...|(65536,[1981,3774...|  0.0|[0.02220319175628...|[0.50555056991348...|       0.0|\n",
      "|     0|1468332689|Tue Apr 07 01:01:...|NO_QUERY|      shinsh0ku|controlling own l...|[controlling, own...|(65536,[2574,6744...|(65536,[2574,6744...|  0.0|[0.43726821251644...|[0.60760790831493...|       0.0|\n",
      "|     0|1468356363|Tue Apr 07 01:10:...|NO_QUERY|      toughcity|haven t talk with...|[haven, t, talk, ...|(65536,[4909,6589...|(65536,[4909,6589...|  0.0|[0.68099139529669...|[0.66395993063184...|       0.0|\n",
      "|     0|1468363386|Tue Apr 07 01:12:...|NO_QUERY|    chrismevans|Argh Driving into...|[argh, driving, i...|(65536,[4832,8195...|(65536,[4832,8195...|  0.0|[4.13425243868960...|[0.98423779337195...|       0.0|\n",
      "|     0|1468374165|Tue Apr 07 01:16:...|NO_QUERY|   marcofrissen|is it possible to...|[is, it, possible...|(65536,[12826,189...|(65536,[12826,189...|  0.0|[0.82410205222647...|[0.69510639748632...|       0.0|\n",
      "|     0|1468374893|Tue Apr 07 01:16:...|NO_QUERY| TradingGoddess|              Agreed|            [agreed]|(65536,[56597],[1...|(65536,[56597],[7...|  0.0|[-0.7998071888030...|[0.31006676456768...|       1.0|\n",
      "|     0|1468387739|Tue Apr 07 01:21:...|NO_QUERY|      CraigMarr|in zombie mode to...|[in, zombie, mode...|(65536,[3559,1223...|(65536,[3559,1223...|  0.0|[2.33819445190399...|[0.91199127388049...|       0.0|\n",
      "|     0|1468419515|Tue Apr 07 01:33:...|NO_QUERY|B_tifullyTragic|BOOO EE you suck ...|[booo, ee, you, s...|(65536,[1198,1714...|(65536,[1198,1714...|  0.0|[4.17308369517269...|[0.98482902067659...|       0.0|\n",
      "+------+----------+--------------------+--------+---------------+--------------------+--------------------+--------------------+--------------------+-----+--------------------+--------------------+----------+\n",
      "only showing top 25 rows\n",
      "\n"
     ]
    }
   ],
   "source": [
    "testPredictionsLogistic.show(25)"
   ]
  },
  {
   "cell_type": "code",
   "execution_count": 24,
   "id": "0dee6879",
   "metadata": {
    "execution": {
     "iopub.execute_input": "2021-12-28T11:41:37.063504Z",
     "iopub.status.busy": "2021-12-28T11:41:37.061057Z",
     "iopub.status.idle": "2021-12-28T11:42:39.312383Z",
     "shell.execute_reply": "2021-12-28T11:42:39.313310Z"
    },
    "papermill": {
     "duration": 62.455757,
     "end_time": "2021-12-28T11:42:39.313494",
     "exception": false,
     "start_time": "2021-12-28T11:41:36.857737",
     "status": "completed"
    },
    "tags": []
   },
   "outputs": [
    {
     "name": "stdout",
     "output_type": "stream",
     "text": [
      "Logistic HashingTF Test Accuracy Score: 0.7844\n",
      "Logistic HashingTF Test ROC-AUC: 0.8545\n"
     ]
    }
   ],
   "source": [
    "test_accuracy = testPredictionsLogistic.filter(testPredictionsLogistic.label == testPredictionsLogistic.prediction).count() / float(test_set.count())\n",
    "test_roc_auc = evaluator.evaluate(testPredictionsLogistic)\n",
    "print(\"Logistic HashingTF Test Accuracy Score: {0:.4f}\".format(test_accuracy))\n",
    "print(\"Logistic HashingTF Test ROC-AUC: {0:.4f}\".format(test_roc_auc))"
   ]
  },
  {
   "cell_type": "code",
   "execution_count": 27,
   "id": "25d60e55",
   "metadata": {},
   "outputs": [
    {
     "name": "stdout",
     "output_type": "stream",
     "text": [
      "Enter textthis week is not going as i had hoped \n"
     ]
    },
    {
     "data": {
      "application/javascript": [
       "\n",
       "        if (window._pyforest_update_imports_cell) { window._pyforest_update_imports_cell('import re'); }\n",
       "    "
      ],
      "text/plain": [
       "<IPython.core.display.Javascript object>"
      ]
     },
     "metadata": {},
     "output_type": "display_data"
    },
    {
     "data": {
      "application/javascript": [
       "\n",
       "        if (window._pyforest_update_imports_cell) { window._pyforest_update_imports_cell('import re'); }\n",
       "    "
      ],
      "text/plain": [
       "<IPython.core.display.Javascript object>"
      ]
     },
     "metadata": {},
     "output_type": "display_data"
    },
    {
     "data": {
      "application/javascript": [
       "\n",
       "        if (window._pyforest_update_imports_cell) { window._pyforest_update_imports_cell('import re'); }\n",
       "    "
      ],
      "text/plain": [
       "<IPython.core.display.Javascript object>"
      ]
     },
     "metadata": {},
     "output_type": "display_data"
    },
    {
     "data": {
      "application/javascript": [
       "\n",
       "        if (window._pyforest_update_imports_cell) { window._pyforest_update_imports_cell('import re'); }\n",
       "    "
      ],
      "text/plain": [
       "<IPython.core.display.Javascript object>"
      ]
     },
     "metadata": {},
     "output_type": "display_data"
    },
    {
     "data": {
      "application/javascript": [
       "\n",
       "        if (window._pyforest_update_imports_cell) { window._pyforest_update_imports_cell('import re'); }\n",
       "    "
      ],
      "text/plain": [
       "<IPython.core.display.Javascript object>"
      ]
     },
     "metadata": {},
     "output_type": "display_data"
    },
    {
     "data": {
      "application/javascript": [
       "\n",
       "        if (window._pyforest_update_imports_cell) { window._pyforest_update_imports_cell('import re'); }\n",
       "    "
      ],
      "text/plain": [
       "<IPython.core.display.Javascript object>"
      ]
     },
     "metadata": {},
     "output_type": "display_data"
    },
    {
     "data": {
      "application/javascript": [
       "\n",
       "        if (window._pyforest_update_imports_cell) { window._pyforest_update_imports_cell('import re'); }\n",
       "    "
      ],
      "text/plain": [
       "<IPython.core.display.Javascript object>"
      ]
     },
     "metadata": {},
     "output_type": "display_data"
    },
    {
     "data": {
      "application/javascript": [
       "\n",
       "        if (window._pyforest_update_imports_cell) { window._pyforest_update_imports_cell('import re'); }\n",
       "    "
      ],
      "text/plain": [
       "<IPython.core.display.Javascript object>"
      ]
     },
     "metadata": {},
     "output_type": "display_data"
    },
    {
     "name": "stdout",
     "output_type": "stream",
     "text": [
      "Predicted sentiment: Negative\n",
      "Enter text@Viennah Yay! I'm happy for you with your job! But that also means less time for me and you... \n"
     ]
    },
    {
     "data": {
      "application/javascript": [
       "\n",
       "        if (window._pyforest_update_imports_cell) { window._pyforest_update_imports_cell('import re'); }\n",
       "    "
      ],
      "text/plain": [
       "<IPython.core.display.Javascript object>"
      ]
     },
     "metadata": {},
     "output_type": "display_data"
    },
    {
     "data": {
      "application/javascript": [
       "\n",
       "        if (window._pyforest_update_imports_cell) { window._pyforest_update_imports_cell('import re'); }\n",
       "    "
      ],
      "text/plain": [
       "<IPython.core.display.Javascript object>"
      ]
     },
     "metadata": {},
     "output_type": "display_data"
    },
    {
     "data": {
      "application/javascript": [
       "\n",
       "        if (window._pyforest_update_imports_cell) { window._pyforest_update_imports_cell('import re'); }\n",
       "    "
      ],
      "text/plain": [
       "<IPython.core.display.Javascript object>"
      ]
     },
     "metadata": {},
     "output_type": "display_data"
    },
    {
     "data": {
      "application/javascript": [
       "\n",
       "        if (window._pyforest_update_imports_cell) { window._pyforest_update_imports_cell('import re'); }\n",
       "    "
      ],
      "text/plain": [
       "<IPython.core.display.Javascript object>"
      ]
     },
     "metadata": {},
     "output_type": "display_data"
    },
    {
     "data": {
      "application/javascript": [
       "\n",
       "        if (window._pyforest_update_imports_cell) { window._pyforest_update_imports_cell('import re'); }\n",
       "    "
      ],
      "text/plain": [
       "<IPython.core.display.Javascript object>"
      ]
     },
     "metadata": {},
     "output_type": "display_data"
    },
    {
     "data": {
      "application/javascript": [
       "\n",
       "        if (window._pyforest_update_imports_cell) { window._pyforest_update_imports_cell('import re'); }\n",
       "    "
      ],
      "text/plain": [
       "<IPython.core.display.Javascript object>"
      ]
     },
     "metadata": {},
     "output_type": "display_data"
    },
    {
     "data": {
      "application/javascript": [
       "\n",
       "        if (window._pyforest_update_imports_cell) { window._pyforest_update_imports_cell('import re'); }\n",
       "    "
      ],
      "text/plain": [
       "<IPython.core.display.Javascript object>"
      ]
     },
     "metadata": {},
     "output_type": "display_data"
    },
    {
     "data": {
      "application/javascript": [
       "\n",
       "        if (window._pyforest_update_imports_cell) { window._pyforest_update_imports_cell('import re'); }\n",
       "    "
      ],
      "text/plain": [
       "<IPython.core.display.Javascript object>"
      ]
     },
     "metadata": {},
     "output_type": "display_data"
    },
    {
     "name": "stdout",
     "output_type": "stream",
     "text": [
      "Predicted sentiment: Positive\n",
      "Enter text@JonathanRKnight I guess that's a no then. \n"
     ]
    },
    {
     "data": {
      "application/javascript": [
       "\n",
       "        if (window._pyforest_update_imports_cell) { window._pyforest_update_imports_cell('import re'); }\n",
       "    "
      ],
      "text/plain": [
       "<IPython.core.display.Javascript object>"
      ]
     },
     "metadata": {},
     "output_type": "display_data"
    },
    {
     "data": {
      "application/javascript": [
       "\n",
       "        if (window._pyforest_update_imports_cell) { window._pyforest_update_imports_cell('import re'); }\n",
       "    "
      ],
      "text/plain": [
       "<IPython.core.display.Javascript object>"
      ]
     },
     "metadata": {},
     "output_type": "display_data"
    },
    {
     "data": {
      "application/javascript": [
       "\n",
       "        if (window._pyforest_update_imports_cell) { window._pyforest_update_imports_cell('import re'); }\n",
       "    "
      ],
      "text/plain": [
       "<IPython.core.display.Javascript object>"
      ]
     },
     "metadata": {},
     "output_type": "display_data"
    },
    {
     "data": {
      "application/javascript": [
       "\n",
       "        if (window._pyforest_update_imports_cell) { window._pyforest_update_imports_cell('import re'); }\n",
       "    "
      ],
      "text/plain": [
       "<IPython.core.display.Javascript object>"
      ]
     },
     "metadata": {},
     "output_type": "display_data"
    },
    {
     "data": {
      "application/javascript": [
       "\n",
       "        if (window._pyforest_update_imports_cell) { window._pyforest_update_imports_cell('import re'); }\n",
       "    "
      ],
      "text/plain": [
       "<IPython.core.display.Javascript object>"
      ]
     },
     "metadata": {},
     "output_type": "display_data"
    },
    {
     "data": {
      "application/javascript": [
       "\n",
       "        if (window._pyforest_update_imports_cell) { window._pyforest_update_imports_cell('import re'); }\n",
       "    "
      ],
      "text/plain": [
       "<IPython.core.display.Javascript object>"
      ]
     },
     "metadata": {},
     "output_type": "display_data"
    },
    {
     "data": {
      "application/javascript": [
       "\n",
       "        if (window._pyforest_update_imports_cell) { window._pyforest_update_imports_cell('import re'); }\n",
       "    "
      ],
      "text/plain": [
       "<IPython.core.display.Javascript object>"
      ]
     },
     "metadata": {},
     "output_type": "display_data"
    },
    {
     "data": {
      "application/javascript": [
       "\n",
       "        if (window._pyforest_update_imports_cell) { window._pyforest_update_imports_cell('import re'); }\n",
       "    "
      ],
      "text/plain": [
       "<IPython.core.display.Javascript object>"
      ]
     },
     "metadata": {},
     "output_type": "display_data"
    },
    {
     "name": "stdout",
     "output_type": "stream",
     "text": [
      "Predicted sentiment: Negative\n",
      "Enter textI finished a wholesale order for Blythe Mary Jane shoes for 40 pairs. Lots of pretty colors &amp; glitters \n"
     ]
    },
    {
     "data": {
      "application/javascript": [
       "\n",
       "        if (window._pyforest_update_imports_cell) { window._pyforest_update_imports_cell('import re'); }\n",
       "    "
      ],
      "text/plain": [
       "<IPython.core.display.Javascript object>"
      ]
     },
     "metadata": {},
     "output_type": "display_data"
    },
    {
     "data": {
      "application/javascript": [
       "\n",
       "        if (window._pyforest_update_imports_cell) { window._pyforest_update_imports_cell('import re'); }\n",
       "    "
      ],
      "text/plain": [
       "<IPython.core.display.Javascript object>"
      ]
     },
     "metadata": {},
     "output_type": "display_data"
    },
    {
     "data": {
      "application/javascript": [
       "\n",
       "        if (window._pyforest_update_imports_cell) { window._pyforest_update_imports_cell('import re'); }\n",
       "    "
      ],
      "text/plain": [
       "<IPython.core.display.Javascript object>"
      ]
     },
     "metadata": {},
     "output_type": "display_data"
    },
    {
     "data": {
      "application/javascript": [
       "\n",
       "        if (window._pyforest_update_imports_cell) { window._pyforest_update_imports_cell('import re'); }\n",
       "    "
      ],
      "text/plain": [
       "<IPython.core.display.Javascript object>"
      ]
     },
     "metadata": {},
     "output_type": "display_data"
    },
    {
     "data": {
      "application/javascript": [
       "\n",
       "        if (window._pyforest_update_imports_cell) { window._pyforest_update_imports_cell('import re'); }\n",
       "    "
      ],
      "text/plain": [
       "<IPython.core.display.Javascript object>"
      ]
     },
     "metadata": {},
     "output_type": "display_data"
    },
    {
     "data": {
      "application/javascript": [
       "\n",
       "        if (window._pyforest_update_imports_cell) { window._pyforest_update_imports_cell('import re'); }\n",
       "    "
      ],
      "text/plain": [
       "<IPython.core.display.Javascript object>"
      ]
     },
     "metadata": {},
     "output_type": "display_data"
    },
    {
     "data": {
      "application/javascript": [
       "\n",
       "        if (window._pyforest_update_imports_cell) { window._pyforest_update_imports_cell('import re'); }\n",
       "    "
      ],
      "text/plain": [
       "<IPython.core.display.Javascript object>"
      ]
     },
     "metadata": {},
     "output_type": "display_data"
    },
    {
     "data": {
      "application/javascript": [
       "\n",
       "        if (window._pyforest_update_imports_cell) { window._pyforest_update_imports_cell('import re'); }\n",
       "    "
      ],
      "text/plain": [
       "<IPython.core.display.Javascript object>"
      ]
     },
     "metadata": {},
     "output_type": "display_data"
    },
    {
     "name": "stdout",
     "output_type": "stream",
     "text": [
      "Predicted sentiment: Positive\n",
      "Enter textstop\n"
     ]
    },
    {
     "data": {
      "application/javascript": [
       "\n",
       "        if (window._pyforest_update_imports_cell) { window._pyforest_update_imports_cell('import re'); }\n",
       "    "
      ],
      "text/plain": [
       "<IPython.core.display.Javascript object>"
      ]
     },
     "metadata": {},
     "output_type": "display_data"
    },
    {
     "data": {
      "application/javascript": [
       "\n",
       "        if (window._pyforest_update_imports_cell) { window._pyforest_update_imports_cell('import re'); }\n",
       "    "
      ],
      "text/plain": [
       "<IPython.core.display.Javascript object>"
      ]
     },
     "metadata": {},
     "output_type": "display_data"
    },
    {
     "data": {
      "application/javascript": [
       "\n",
       "        if (window._pyforest_update_imports_cell) { window._pyforest_update_imports_cell('import re'); }\n",
       "    "
      ],
      "text/plain": [
       "<IPython.core.display.Javascript object>"
      ]
     },
     "metadata": {},
     "output_type": "display_data"
    },
    {
     "data": {
      "application/javascript": [
       "\n",
       "        if (window._pyforest_update_imports_cell) { window._pyforest_update_imports_cell('import re'); }\n",
       "    "
      ],
      "text/plain": [
       "<IPython.core.display.Javascript object>"
      ]
     },
     "metadata": {},
     "output_type": "display_data"
    },
    {
     "data": {
      "application/javascript": [
       "\n",
       "        if (window._pyforest_update_imports_cell) { window._pyforest_update_imports_cell('import re'); }\n",
       "    "
      ],
      "text/plain": [
       "<IPython.core.display.Javascript object>"
      ]
     },
     "metadata": {},
     "output_type": "display_data"
    },
    {
     "data": {
      "application/javascript": [
       "\n",
       "        if (window._pyforest_update_imports_cell) { window._pyforest_update_imports_cell('import re'); }\n",
       "    "
      ],
      "text/plain": [
       "<IPython.core.display.Javascript object>"
      ]
     },
     "metadata": {},
     "output_type": "display_data"
    },
    {
     "data": {
      "application/javascript": [
       "\n",
       "        if (window._pyforest_update_imports_cell) { window._pyforest_update_imports_cell('import re'); }\n",
       "    "
      ],
      "text/plain": [
       "<IPython.core.display.Javascript object>"
      ]
     },
     "metadata": {},
     "output_type": "display_data"
    },
    {
     "data": {
      "application/javascript": [
       "\n",
       "        if (window._pyforest_update_imports_cell) { window._pyforest_update_imports_cell('import re'); }\n",
       "    "
      ],
      "text/plain": [
       "<IPython.core.display.Javascript object>"
      ]
     },
     "metadata": {},
     "output_type": "display_data"
    },
    {
     "name": "stdout",
     "output_type": "stream",
     "text": [
      "Predicted sentiment: Positive\n"
     ]
    }
   ],
   "source": [
    "def preprocess_input_text(text):\n",
    "    text = re.sub(r'http\\S+', '', text)\n",
    "    text = re.sub(r'@\\w+', '', text)\n",
    "    text = re.sub(r'#', '', text)\n",
    "    text = re.sub(r'RT', '', text)\n",
    "    text = re.sub(r':', '', text)\n",
    "    text = re.sub(r'[^A-Za-z0-9]+', ' ', text)\n",
    "    text = re.sub(r'\\-', '', text)\n",
    "    text = re.sub(r'[ ]+', ' ', text)\n",
    "    text = text.strip()\n",
    "    return text\n",
    "\n",
    "def predict_sentiment(input_text, pipeline_fit, lr_model):\n",
    "    preprocessed_text = preprocess_input_text(input_text)\n",
    "    input_df = spark.createDataFrame([(preprocessed_text,)], [\"text\"])\n",
    "    input_transformed = pipeline_fit.transform(input_df)\n",
    "    prediction = lr_model.transform(input_transformed)\n",
    "    sentiment = prediction.select(\"prediction\").collect()[0][0]\n",
    "    if sentiment == 0.0:\n",
    "        return \"Negative\"\n",
    "    elif sentiment == 1.0:\n",
    "        return \"Positive\"\n",
    "    else:\n",
    "        return \"Neutral\"\n",
    "\n",
    "# Example usage:\n",
    "flag = True\n",
    "while flag == True:\n",
    "    input_text = str(input(\"Enter text\"))\n",
    "    if input_text == 'stop':\n",
    "        flag = False\n",
    "        break\n",
    "    predicted_sentiment = predict_sentiment(input_text, pipelineFit, lrModel)\n",
    "    print(\"Predicted sentiment:\", predicted_sentiment)"
   ]
  }
 ],
 "metadata": {
  "kernelspec": {
   "display_name": "Python 3",
   "language": "python",
   "name": "python3"
  },
  "language_info": {
   "codemirror_mode": {
    "name": "ipython",
    "version": 3
   },
   "file_extension": ".py",
   "mimetype": "text/x-python",
   "name": "python",
   "nbconvert_exporter": "python",
   "pygments_lexer": "ipython3",
   "version": "3.8.8"
  },
  "papermill": {
   "default_parameters": {},
   "duration": 6192.304019,
   "end_time": "2021-12-28T13:18:22.948774",
   "environment_variables": {},
   "exception": null,
   "input_path": "__notebook__.ipynb",
   "output_path": "__notebook__.ipynb",
   "parameters": {},
   "start_time": "2021-12-28T11:35:10.644755",
   "version": "2.3.3"
  }
 },
 "nbformat": 4,
 "nbformat_minor": 5
}
